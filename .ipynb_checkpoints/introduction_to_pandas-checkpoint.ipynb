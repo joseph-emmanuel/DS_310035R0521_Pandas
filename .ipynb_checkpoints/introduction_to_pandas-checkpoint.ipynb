{
 "cells": [
  {
   "cell_type": "code",
   "execution_count": 1,
   "id": "f91dffd7",
   "metadata": {},
   "outputs": [],
   "source": [
    "import pandas as pd"
   ]
  },
  {
   "cell_type": "code",
   "execution_count": 4,
   "id": "7189d2b4",
   "metadata": {},
   "outputs": [],
   "source": [
    "# 2 main data types\n",
    "\n",
    "series=pd.Series([\"BMW\",\"Toyota\",\"Honda\"])"
   ]
  },
  {
   "cell_type": "code",
   "execution_count": 5,
   "id": "1c8f2e4e",
   "metadata": {},
   "outputs": [
    {
     "data": {
      "text/plain": [
       "0       BMW\n",
       "1    Toyota\n",
       "2     Honda\n",
       "dtype: object"
      ]
     },
     "execution_count": 5,
     "metadata": {},
     "output_type": "execute_result"
    }
   ],
   "source": [
    "series\n"
   ]
  },
  {
   "cell_type": "code",
   "execution_count": 6,
   "id": "49e8e495",
   "metadata": {},
   "outputs": [],
   "source": [
    "# series are one diamentional"
   ]
  },
  {
   "cell_type": "code",
   "execution_count": null,
   "id": "a5d515e9",
   "metadata": {},
   "outputs": [],
   "source": [
    "colors=pd.Series([\"red\",\"orange\",\"yellow\",\"green\",\"blue\"\n",
    "indigo.\n",
    "violet.\n",
    "purple.\"])"
   ]
  }
 ],
 "metadata": {
  "kernelspec": {
   "display_name": "Python 3",
   "language": "python",
   "name": "python3"
  },
  "language_info": {
   "codemirror_mode": {
    "name": "ipython",
    "version": 3
   },
   "file_extension": ".py",
   "mimetype": "text/x-python",
   "name": "python",
   "nbconvert_exporter": "python",
   "pygments_lexer": "ipython3",
   "version": "3.9.1"
  }
 },
 "nbformat": 4,
 "nbformat_minor": 5
}
